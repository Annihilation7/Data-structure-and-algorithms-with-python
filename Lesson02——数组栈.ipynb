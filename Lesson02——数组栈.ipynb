{
 "cells": [
  {
   "cell_type": "markdown",
   "metadata": {},
   "source": [
    "# 栈\n",
    "- 栈也是一种线性结构\n",
    "- 相比数组，栈对应的操作是数组的子集\n",
    "- 只能从一端添加元素，也只能从一端取出元素\n",
    "- 这一端称为栈顶\n",
    "- LIFO"
   ]
  },
  {
   "cell_type": "markdown",
   "metadata": {},
   "source": [
    "# 栈的应用\n",
    "- 无处不在的Undo操作（撤销）\n",
    "- 程序调用的系统栈"
   ]
  },
  {
   "cell_type": "code",
   "execution_count": 13,
   "metadata": {},
   "outputs": [],
   "source": [
    "class ArrayStack:\n",
    "    def __init__(self):\n",
    "        \"\"\"构造函数\"\"\"\n",
    "        self.data = []  # 直到原理就行了，以后就用python的内置数组类了，必然支持动态扩容呀\n",
    "        self.size = 0\n",
    "        \n",
    "    def getSize(self):\n",
    "        \"\"\"\n",
    "        获取栈中有效元素的数目\n",
    "        Returns:\n",
    "            元素数目\n",
    "        \"\"\"\n",
    "        return len(self.data)\n",
    "    \n",
    "    def isEmpty(self):\n",
    "        \"\"\"判空\"\"\"\n",
    "        return self.size == 0\n",
    "    \n",
    "    def push(self, elem):\n",
    "        \"\"\"\n",
    "        将一个元素入栈\n",
    "        O(1)\n",
    "        Params:\n",
    "            - elem: 待入栈元素\n",
    "        \"\"\"\n",
    "        self.data.append(elem)\n",
    "        self.size += 1\n",
    "        \n",
    "    def peek(self):\n",
    "        \"\"\"\n",
    "        看一下栈顶元素是谁\n",
    "        O(1)\n",
    "        Returns:\n",
    "            栈顶元素的值\n",
    "        \"\"\"\n",
    "        if not self.size:\n",
    "            raise Exception('Empty stack!')\n",
    "        return self.data[self.size - 1]\n",
    "    \n",
    "    def pop(self):\n",
    "        \"\"\"\n",
    "        将一个元素弹出栈\n",
    "        O(1)\n",
    "        Returns:\n",
    "            出栈元素的值\n",
    "        \"\"\"\n",
    "        if not self.size:\n",
    "            raise Exception('Empty stack!')\n",
    "        ret = self.data.pop()\n",
    "        self.size -= 1\n",
    "        return ret\n",
    "    \n",
    "    def print_(self):\n",
    "        \"\"\"打印栈内元素\"\"\"\n",
    "        print('top： ', end=' ')\n",
    "        for i in range(self.size - 1, -1, -1):\n",
    "            print(self.data[i], end=' ')\n",
    "        print(':bottom')"
   ]
  },
  {
   "cell_type": "code",
   "execution_count": 19,
   "metadata": {},
   "outputs": [
    {
     "name": "stdout",
     "output_type": "stream",
     "text": [
      "顺序添加1-10 10个元素----- top：  10 9 8 7 6 5 4 3 2 1 :bottom\n",
      "栈顶元素----- 10\n",
      "删除前俩元素----- top：  8 7 6 5 4 3 2 1 :bottom\n",
      "此时栈中有效元素的数量----- 8\n"
     ]
    }
   ],
   "source": [
    "# test\n",
    "test_arraystack = ArrayStack()\n",
    "print('顺序添加1-10 10个元素-----', end=' ')\n",
    "for i in range(1, 11):\n",
    "    test_arraystack.push(i)\n",
    "test_arraystack.print_()\n",
    "print('栈顶元素-----', test_arraystack.peek())\n",
    "print('删除前俩元素-----', end=' ')\n",
    "for i in range(2):\n",
    "    test_arraystack.pop()\n",
    "test_arraystack.print_()\n",
    "print('此时栈中有效元素的数量-----', test_arraystack.getSize())"
   ]
  }
 ],
 "metadata": {
  "kernelspec": {
   "display_name": "Python 3",
   "language": "python",
   "name": "python3"
  },
  "language_info": {
   "codemirror_mode": {
    "name": "ipython",
    "version": 3
   },
   "file_extension": ".py",
   "mimetype": "text/x-python",
   "name": "python",
   "nbconvert_exporter": "python",
   "pygments_lexer": "ipython3",
   "version": "3.6.8"
  }
 },
 "nbformat": 4,
 "nbformat_minor": 2
}
