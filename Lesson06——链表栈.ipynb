{
 "cells": [
  {
   "cell_type": "markdown",
   "metadata": {},
   "source": [
    "# 使用链表实现栈\n",
    "- 都在表头进行操作，所以时间复杂度是O(1)的"
   ]
  },
  {
   "cell_type": "code",
   "execution_count": 1,
   "metadata": {},
   "outputs": [],
   "source": [
    "class Node:\n",
    "    def __init__(self, elem='nan', next=None):\n",
    "        \"\"\"节点类构造函数\"\"\"\n",
    "        self.elem = elem\n",
    "        self.next = next"
   ]
  },
  {
   "cell_type": "code",
   "execution_count": 3,
   "metadata": {},
   "outputs": [],
   "source": [
    "class NodeListStack:\n",
    "    def __init__(self):\n",
    "        \"\"\"链表栈构造函数\"\"\"\n",
    "        self.dummyhead = Node()\n",
    "        self.size = 0\n",
    "        \n",
    "    def getSize(self):\n",
    "        \"\"\"获取栈容量\"\"\"\n",
    "        return self.size\n",
    "    \n",
    "    def isEmpty(self):\n",
    "        \"\"\"判空\"\"\"\n",
    "        return self.size == 0\n",
    "    \n",
    "    def push(self, elem):\n",
    "        \"\"\"\n",
    "        元素入栈\n",
    "        O(1)\n",
    "        Params:\n",
    "            - elem: 待入栈元素\n",
    "        \"\"\"\n",
    "        new_node = Node(elem, self.dummyhead.next)\n",
    "        self.dummyhead.next = new_node\n",
    "        self.size += 1\n",
    "        \n",
    "    def peek(self):\n",
    "        \"\"\"\n",
    "        看一眼栈顶元素是谁\n",
    "        O(1)\n",
    "        Returns:\n",
    "            栈顶元素的值\n",
    "        \"\"\"\n",
    "        if self.isEmpty():\n",
    "            raise Exception('Empty stack!')\n",
    "        return self.dummyhead.next.elem\n",
    "    \n",
    "    def pop(self):\n",
    "        \"\"\"\n",
    "        出栈一个元素\n",
    "        O(1)\n",
    "        Returns:\n",
    "            出栈元素的值\n",
    "        \"\"\"\n",
    "        if self.isEmpty():\n",
    "            raise Exception('Empty stack!')\n",
    "        temp_node = self.dummyhead.next\n",
    "        ret = temp_node.elem\n",
    "        self.dummyhead.next = temp_node.next\n",
    "        temp_node.next = None\n",
    "        self.size -= 1\n",
    "        return ret\n",
    "    \n",
    "    def print_(self):\n",
    "        \"\"\"打印站内元素\"\"\"\n",
    "        print('top:', end=' ')\n",
    "        cur_node = self.dummyhead.next\n",
    "        while cur_node:\n",
    "            print(cur_node.elem, end=' ')\n",
    "            cur_node = cur_node.next\n",
    "        print(':bottom')"
   ]
  },
  {
   "cell_type": "code",
   "execution_count": 5,
   "metadata": {},
   "outputs": [
    {
     "name": "stdout",
     "output_type": "stream",
     "text": [
      "顺序入栈1-10 10个元素----- top: 10 9 8 7 6 5 4 3 2 1 :bottom\n",
      "出栈5个元素----- top: 5 4 3 2 1 :bottom\n"
     ]
    }
   ],
   "source": [
    "# test\n",
    "test_nodeliststack = NodeListStack()\n",
    "print('顺序入栈1-10 10个元素-----', end=' ')\n",
    "for i in range(1, 11):\n",
    "    test_nodeliststack.push(i)\n",
    "test_nodeliststack.print_()\n",
    "print('出栈5个元素-----', end=' ')\n",
    "for i in range(5):\n",
    "    test_nodeliststack.pop()\n",
    "test_nodeliststack.print_()"
   ]
  }
 ],
 "metadata": {
  "kernelspec": {
   "display_name": "Python 3",
   "language": "python",
   "name": "python3"
  },
  "language_info": {
   "codemirror_mode": {
    "name": "ipython",
    "version": 3
   },
   "file_extension": ".py",
   "mimetype": "text/x-python",
   "name": "python",
   "nbconvert_exporter": "python",
   "pygments_lexer": "ipython3",
   "version": "3.6.8"
  }
 },
 "nbformat": 4,
 "nbformat_minor": 2
}
