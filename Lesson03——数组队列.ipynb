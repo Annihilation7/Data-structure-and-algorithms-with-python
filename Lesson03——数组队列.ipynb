{
 "cells": [
  {
   "cell_type": "markdown",
   "metadata": {},
   "source": [
    "# 队列\n",
    "- 队列也是一种线性结构\n",
    "- 相比数组，队列对应的操作是数组的子集\n",
    "- 只能从一端（队尾）添加元素，只能从另一端（队首）取出元素\n",
    "- FIFO"
   ]
  },
  {
   "cell_type": "code",
   "execution_count": 9,
   "metadata": {},
   "outputs": [],
   "source": [
    "# 我把索引为0的位置定义为队首\n",
    "class ArrayQueue:\n",
    "    def __init__(self):\n",
    "        \"\"\"构造函数\"\"\"\n",
    "        self.data = []\n",
    "        self.size = 0\n",
    "        \n",
    "    def isEmpty(self):\n",
    "        \"\"\"判空\"\"\"\n",
    "        return self.size == 0\n",
    "    \n",
    "    def getSize(self):\n",
    "        \"\"\"获取队列中有效元素的数目\"\"\"\n",
    "        return self.size \n",
    "    \n",
    "    def enqueue(self, elem):\n",
    "        \"\"\"\n",
    "        将一个元素入队\n",
    "        O(1)\n",
    "        Params:\n",
    "            - elem: 待入队元素\n",
    "        \"\"\"\n",
    "        self.data.append(elem)\n",
    "        self.size += 1\n",
    "        \n",
    "    def dequeue(self):\n",
    "        \"\"\"\n",
    "        出队一个元素\n",
    "        O(n)\n",
    "        Returns:\n",
    "            出队元素的值\n",
    "        \"\"\"\n",
    "        if self.isEmpty():\n",
    "            raise Exception('Empty queue!')\n",
    "        ret = self.data[0]\n",
    "        for i in range(1, self.size):\n",
    "            self.data[i - 1] = self.data[i]\n",
    "        self.size -= 1\n",
    "        return ret\n",
    "    \n",
    "    def getFront(self):\n",
    "        \"\"\"\n",
    "        看一眼队首元素是谁\n",
    "        O(1)\n",
    "        Returns:\n",
    "            队首元素的值\n",
    "        \"\"\"\n",
    "        if self.isEmpty():\n",
    "            raise Exception('Empty queue!')\n",
    "        return self.data[0]\n",
    "    \n",
    "    def print_(self):\n",
    "        \"\"\"打印队列内的元素\"\"\"\n",
    "        print('head:', end=' ')\n",
    "        for i in range(self.size):\n",
    "            print(self.data[i],end=' ')\n",
    "        print(':tail')"
   ]
  },
  {
   "cell_type": "code",
   "execution_count": 12,
   "metadata": {},
   "outputs": [
    {
     "name": "stdout",
     "output_type": "stream",
     "text": [
      "1-10 10个元素依次入队----- head: 1 2 3 4 5 6 7 8 9 10 :tail\n",
      "队首元素----- 1\n",
      "出队4个元素----- head: 5 6 7 8 9 10 :tail\n",
      "此时有效元素的数量----- 6\n"
     ]
    }
   ],
   "source": [
    "# test\n",
    "test_queue = ArrayQueue()\n",
    "print('1-10 10个元素依次入队-----', end=' ') # 小数先进，小数先出\n",
    "for i in range(1, 11):\n",
    "    test_queue.enqueue(i)\n",
    "test_queue.print_()\n",
    "print('队首元素-----', test_queue.getFront())\n",
    "print('出队4个元素-----', end=' ')\n",
    "for i in range(4):\n",
    "    test_queue.dequeue()\n",
    "test_queue.print_()\n",
    "print('此时有效元素的数量-----', test_queue.getSize())"
   ]
  }
 ],
 "metadata": {
  "kernelspec": {
   "display_name": "Python 3",
   "language": "python",
   "name": "python3"
  },
  "language_info": {
   "codemirror_mode": {
    "name": "ipython",
    "version": 3
   },
   "file_extension": ".py",
   "mimetype": "text/x-python",
   "name": "python",
   "nbconvert_exporter": "python",
   "pygments_lexer": "ipython3",
   "version": "3.6.8"
  }
 },
 "nbformat": 4,
 "nbformat_minor": 2
}
