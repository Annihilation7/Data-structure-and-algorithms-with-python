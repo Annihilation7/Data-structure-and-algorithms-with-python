{
 "cells": [
  {
   "cell_type": "markdown",
   "metadata": {},
   "source": [
    "# 带有尾指针的链表实现一个队列（循环队列的性能）\n",
    "- 这个队列的性能和循环队列的性能是一样的，相当于的一个循环队列\n",
    "- 队列尾在链表头部，即tail指针的位置。因为出队的话还是要撸到倒数第二个元素才能删除，所以队列尾在链表的尾部，此时入队时的时间复杂度是O(1)的"
   ]
  },
  {
   "cell_type": "code",
   "execution_count": 1,
   "metadata": {},
   "outputs": [],
   "source": [
    "class Node:\n",
    "    def __init__(self, elem='nan', next=None):\n",
    "        \"\"\"节点类构造函数\"\"\"\n",
    "        self.elem = elem\n",
    "        self.next = next"
   ]
  },
  {
   "cell_type": "code",
   "execution_count": 15,
   "metadata": {},
   "outputs": [],
   "source": [
    "# 这个实现就不用dummyhead了，累赘\n",
    "class NodeListQueueWithTailPointer:\n",
    "    def __init__(self):\n",
    "        \"\"\"队列构造函数\"\"\"\n",
    "        self.head = self.tail = None\n",
    "        self.size = 0\n",
    "        self.size = 0\n",
    "        \n",
    "    def isEmpty(self):\n",
    "        \"\"\"判空\"\"\"\n",
    "        return self.size == 0\n",
    "    \n",
    "    def getSize(self):\n",
    "        \"\"\"获取队列容量\"\"\"\n",
    "        return self.size\n",
    "    \n",
    "    def enqueue(self, elem):\n",
    "        \"\"\"\n",
    "        将一个元素入队\n",
    "        O(1)\n",
    "        Params:\n",
    "            - elem: 待入队元素\n",
    "        \"\"\"\n",
    "        if self.isEmpty():\n",
    "            # 绝对不存在队列尾非空，而队列头是空的情况\n",
    "            self.front = Node(elem)\n",
    "            self.tail = self.front\n",
    "            self.size += 1\n",
    "            return\n",
    "        tmp_node = Node(elem)\n",
    "        self.tail.next = tmp_node\n",
    "        self.tail = self.tail.next\n",
    "        self.size += 1\n",
    "        \n",
    "    def getFront(self):\n",
    "        \"\"\"\n",
    "        获取队首元素的值\n",
    "        O(1)\n",
    "        Returns:\n",
    "            队首元素的值\n",
    "        \"\"\"\n",
    "        if self.isEmpty():\n",
    "            raise Exception('Empty queue!')\n",
    "        return self.front.elem\n",
    "    \n",
    "    def dequeue(self):\n",
    "        \"\"\"\n",
    "        将一个元素出队\n",
    "        O(1)\n",
    "        Returns:\n",
    "            出队元素的值\n",
    "        \"\"\"\n",
    "        if self.isEmpty():\n",
    "            raise Exception('Empty queue!')\n",
    "        ret = self.tail.elem\n",
    "        new_front = self.front.next\n",
    "        self.front.next = None\n",
    "        self.front = new_front\n",
    "        self.size -= 1\n",
    "        if self.isEmpty():\n",
    "            self.tail = None\n",
    "        return ret\n",
    "        \n",
    "    def print_(self):\n",
    "        \"\"\"打印队列中的所有元素\"\"\"\n",
    "        if self.isEmpty():\n",
    "            print('Empty queue.')\n",
    "            return\n",
    "        print('front:', end=' ')\n",
    "        buffer = []\n",
    "        cur_node = self.front\n",
    "        while cur_node:\n",
    "            buffer.append(cur_node.elem)\n",
    "            cur_node = cur_node.next\n",
    "        for elem in buffer:\n",
    "            print(elem, end=' ')\n",
    "        print(':tail')"
   ]
  },
  {
   "cell_type": "code",
   "execution_count": 18,
   "metadata": {},
   "outputs": [
    {
     "name": "stdout",
     "output_type": "stream",
     "text": [
      "将1-10 10个元素顺序入队----- front: 1 2 3 4 5 6 7 8 9 10 :tail\n",
      "出队5个元素----- front: 6 7 8 9 10 :tail\n",
      "再出队5个元素----- Empty queue.\n",
      "再入队56789 5个元素----- front: 5 6 7 8 9 :tail\n",
      "Size----- 5\n"
     ]
    }
   ],
   "source": [
    "# test\n",
    "test = NodeListQueueWithTailPointer()\n",
    "print('将1-10 10个元素顺序入队-----', end=' ')\n",
    "for i in range(1, 11):\n",
    "    test.enqueue(i)\n",
    "test.print_()\n",
    "print('出队5个元素-----', end=' ')\n",
    "for i in range(5):\n",
    "    test.dequeue()\n",
    "test.print_()\n",
    "print('再出队5个元素-----', end=' ')\n",
    "for i in range(5):\n",
    "    test.dequeue()\n",
    "test.print_()\n",
    "print('再入队56789 5个元素-----', end=' ')\n",
    "for i in range(5, 10):\n",
    "    test.enqueue(i)\n",
    "test.print_()\n",
    "print('Size-----', test.getSize())"
   ]
  }
 ],
 "metadata": {
  "kernelspec": {
   "display_name": "Python 3",
   "language": "python",
   "name": "python3"
  },
  "language_info": {
   "codemirror_mode": {
    "name": "ipython",
    "version": 3
   },
   "file_extension": ".py",
   "mimetype": "text/x-python",
   "name": "python",
   "nbconvert_exporter": "python",
   "pygments_lexer": "ipython3",
   "version": "3.6.8"
  }
 },
 "nbformat": 4,
 "nbformat_minor": 2
}
